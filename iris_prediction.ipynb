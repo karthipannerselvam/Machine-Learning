{
  "nbformat": 4,
  "nbformat_minor": 0,
  "metadata": {
    "colab": {
      "provenance": [],
      "authorship_tag": "ABX9TyOc9EYwAirvKZcYMOEeM60p",
      "include_colab_link": true
    },
    "kernelspec": {
      "name": "python3",
      "display_name": "Python 3"
    },
    "language_info": {
      "name": "python"
    }
  },
  "cells": [
    {
      "cell_type": "markdown",
      "metadata": {
        "id": "view-in-github",
        "colab_type": "text"
      },
      "source": [
        "<a href=\"https://colab.research.google.com/github/karthipannerselvam/Machine-Learning/blob/main/iris_prediction.ipynb\" target=\"_parent\"><img src=\"https://colab.research.google.com/assets/colab-badge.svg\" alt=\"Open In Colab\"/></a>"
      ]
    },
    {
      "cell_type": "code",
      "source": [
        "# Import necessary libraries\n",
        "from sklearn.datasets import load_iris\n",
        "from sklearn.model_selection import train_test_split\n",
        "from sklearn.naive_bayes import GaussianNB\n",
        "\n",
        "# Load the iris dataset\n",
        "iris = load_iris()\n",
        "X = iris.data\n",
        "y = iris.target\n",
        "\n",
        "# Create a mapping from target labels to class names\n",
        "class_names = {0: 'setosa', 1: 'versicolor', 2: 'virginica'}\n",
        "\n",
        "# Split the dataset into training and testing sets\n",
        "X_train, X_test, y_train, y_test = train_test_split(X, y, test_size=0.2, random_state=42)\n",
        "\n",
        "# Create a Naive Bayes model\n",
        "model = GaussianNB()\n",
        "\n",
        "# Fit the model to the training data\n",
        "model.fit(X_train, y_train)\n",
        "\n",
        "# Input the sample data point\n",
        "new_sample = [[5.1,3.8,1.9,0.4]]  # Input the values for sepal length, sepal width, petal length, petal width\n",
        "\n",
        "# Predict the class label for the new sample data point\n",
        "predicted_class = model.predict(new_sample)\n",
        "\n",
        "# Convert the predicted class label to class name\n",
        "predicted_class_name = class_names[predicted_class[0]]\n",
        "\n",
        "print(\"Predicted class label:\", predicted_class[0])\n",
        "print(\"Predicted class name:\", predicted_class_name)"
      ],
      "metadata": {
        "colab": {
          "base_uri": "https://localhost:8080/"
        },
        "id": "_tXr1sdQ23kt",
        "outputId": "ba9f78be-0753-4617-ab96-a1dde07688e6"
      },
      "execution_count": 13,
      "outputs": [
        {
          "output_type": "stream",
          "name": "stdout",
          "text": [
            "Predicted class label: 0\n",
            "Predicted class name: setosa\n"
          ]
        }
      ]
    }
  ]
}